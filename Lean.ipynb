{
 "cells": [
  {
   "cell_type": "markdown",
   "id": "70764dbf-f2bd-4ef5-bcec-337315665c3d",
   "metadata": {},
   "source": [
    "# Write first python cod"
   ]
  },
  {
   "cell_type": "markdown",
   "id": "7ce7c2a0-d724-4b0b-a01d-62f430c1be8f",
   "metadata": {},
   "source": [
    "###### In this Jupyterlite Notebook you will learn how to write codein python"
   ]
  },
  {
   "cell_type": "markdown",
   "id": "01afbb56-4538-4a7e-ad43-81da0b1b67a2",
   "metadata": {},
   "source": [
    "**The languages for data science are :**\n",
    "1. python\n",
    "1. R\n",
    "1. scala\n"
   ]
  },
  {
   "cell_type": "markdown",
   "id": "a4081a1c-a8d7-4f34-a96f-a5a10c64fbd3",
   "metadata": {},
   "source": [
    "**The librariesfor data science are :**\n",
    "1. pandas\n",
    "1. sklearn\n",
    "1. numpy\n"
   ]
  },
  {
   "cell_type": "markdown",
   "id": "18ec364d-f45f-4095-a5e4-fdd4cb001958",
   "metadata": {},
   "source": [
    "**arithmetic expression examples :**\n",
    "1. 3+2 = 5\n",
    "1. 3*2 = 6\n",
    "1. 4/2 = 2\n",
    "1. 4//3 = 1\n",
    "1. 2-1 = 1"
   ]
  },
  {
   "cell_type": "markdown",
   "id": "134499a8-7554-4ec1-94f1-34e86a7e075e",
   "metadata": {},
   "source": [
    "**convert minutes to hours :**"
   ]
  },
  {
   "cell_type": "code",
   "execution_count": 6,
   "id": "82d32729-59bd-4ad9-9c75-d5c56c64d914",
   "metadata": {},
   "outputs": [
    {
     "name": "stdin",
     "output_type": "stream",
     "text": [
      "Plz enter the minutes 60\n"
     ]
    },
    {
     "name": "stdout",
     "output_type": "stream",
     "text": [
      "The Hour is  1.0\n"
     ]
    }
   ],
   "source": [
    "min = int(input('Plz enter the minutes'))\n",
    "if (min > 0 ) :\n",
    "    hour = min / 60\n",
    "    print('The Hour is ',hour)\n",
    "else : \n",
    "    print(' Plz Enter right value ')"
   ]
  },
  {
   "cell_type": "markdown",
   "id": "638afc14-72ee-4aa2-81de-ee0dd61903d0",
   "metadata": {},
   "source": [
    "# The Author’s Ahamad Jajan #"
   ]
  },
  {
   "cell_type": "markdown",
   "id": "934aa1e2-cf84-43e1-b2ce-0d4bfcc13b20",
   "metadata": {},
   "source": [
    "# list Objectives :\n",
    "1. Learn how use Jupyterlite Notebook"
   ]
  },
  {
   "cell_type": "code",
   "execution_count": null,
   "id": "ccc0e86d-e02a-4efc-b87d-008abf41d9b0",
   "metadata": {},
   "outputs": [],
   "source": []
  }
 ],
 "metadata": {
  "kernelspec": {
   "display_name": "Python 3 (ipykernel)",
   "language": "python",
   "name": "python3"
  },
  "language_info": {
   "codemirror_mode": {
    "name": "ipython",
    "version": 3
   },
   "file_extension": ".py",
   "mimetype": "text/x-python",
   "name": "python",
   "nbconvert_exporter": "python",
   "pygments_lexer": "ipython3",
   "version": "3.11.7"
  }
 },
 "nbformat": 4,
 "nbformat_minor": 5
}
